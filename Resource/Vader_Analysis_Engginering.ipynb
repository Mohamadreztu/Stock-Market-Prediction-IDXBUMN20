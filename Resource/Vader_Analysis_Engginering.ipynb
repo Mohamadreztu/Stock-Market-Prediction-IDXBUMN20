{
  "cells": [
    {
      "cell_type": "code",
      "execution_count": null,
      "metadata": {
        "id": "2v753-NSMjP2",
        "colab": {
          "base_uri": "https://localhost:8080/"
        },
        "outputId": "02cce5ef-7440-49ff-9970-79f6c019228e"
      },
      "outputs": [
        {
          "output_type": "stream",
          "name": "stdout",
          "text": [
            "Collecting vaderSentiment\n",
            "  Downloading vaderSentiment-3.3.2-py2.py3-none-any.whl.metadata (572 bytes)\n",
            "Requirement already satisfied: requests in /usr/local/lib/python3.11/dist-packages (from vaderSentiment) (2.32.3)\n",
            "Requirement already satisfied: charset-normalizer<4,>=2 in /usr/local/lib/python3.11/dist-packages (from requests->vaderSentiment) (3.4.1)\n",
            "Requirement already satisfied: idna<4,>=2.5 in /usr/local/lib/python3.11/dist-packages (from requests->vaderSentiment) (3.10)\n",
            "Requirement already satisfied: urllib3<3,>=1.21.1 in /usr/local/lib/python3.11/dist-packages (from requests->vaderSentiment) (2.3.0)\n",
            "Requirement already satisfied: certifi>=2017.4.17 in /usr/local/lib/python3.11/dist-packages (from requests->vaderSentiment) (2025.1.31)\n",
            "Downloading vaderSentiment-3.3.2-py2.py3-none-any.whl (125 kB)\n",
            "\u001b[2K   \u001b[90m━━━━━━━━━━━━━━━━━━━━━━━━━━━━━━━━━━━━━━━━\u001b[0m \u001b[32m126.0/126.0 kB\u001b[0m \u001b[31m2.8 MB/s\u001b[0m eta \u001b[36m0:00:00\u001b[0m\n",
            "\u001b[?25hInstalling collected packages: vaderSentiment\n",
            "Successfully installed vaderSentiment-3.3.2\n"
          ]
        }
      ],
      "source": [
        "!pip install vaderSentiment"
      ]
    },
    {
      "cell_type": "code",
      "execution_count": null,
      "metadata": {
        "id": "Pb6PTia3MWsH"
      },
      "outputs": [],
      "source": [
        "import pandas as pd\n",
        "from vaderSentiment.vaderSentiment import SentimentIntensityAnalyzer"
      ]
    },
    {
      "cell_type": "code",
      "execution_count": null,
      "metadata": {
        "id": "iiXbDLrKOpdw"
      },
      "outputs": [],
      "source": [
        "from oauth2client.service_account import ServiceAccountCredentials\n",
        "import gspread as gs\n",
        "from gspread_dataframe import set_with_dataframe\n",
        "\n",
        "scope = ['https://spreadsheets.google.com/feeds','https://www.googleapis.com/auth/drive']\n",
        "credentials = ServiceAccountCredentials.from_json_keyfile_name('/content/telkomprojectpost-442206-7d1a9ddc7907.json', scope)\n",
        "gc = gs.authorize(credentials)"
      ]
    },
    {
      "cell_type": "code",
      "execution_count": null,
      "metadata": {
        "id": "2nULorsjOstj"
      },
      "outputs": [],
      "source": [
        "# Membaca data dari Google Sheets\n",
        "spreadsheet = gc.open('Sementara')\n",
        "worksheet = spreadsheet.worksheet('PT TLKM')\n",
        "existing_data = worksheet.get_all_values()\n",
        "\n",
        "# Konversi ke DataFrame\n",
        "df = pd.DataFrame(existing_data[1:], columns=existing_data[0])"
      ]
    },
    {
      "cell_type": "code",
      "execution_count": null,
      "metadata": {
        "id": "FRg8D7DrMg4L"
      },
      "outputs": [],
      "source": [
        "# Inisialisasi Sentiment Intensity Analyzer\n",
        "analyzer = SentimentIntensityAnalyzer()\n",
        "\n",
        "# Fungsi untuk mendapatkan skor sentimen\n",
        "def get_sentiment_scores(content):\n",
        "    return analyzer.polarity_scores(content)\n",
        "\n",
        "# Mengambil kolom 'content' dan menghitung skor sentimen\n",
        "df['sentiment_scores'] = df['content'].apply(get_sentiment_scores)\n",
        "\n",
        "# Menambahkan kolom untuk negative, neutral, positive, dan compound score\n",
        "df['negative'] = df['sentiment_scores'].apply(lambda x: x['neg'])\n",
        "df['neutral'] = df['sentiment_scores'].apply(lambda x: x['neu'])\n",
        "df['positive'] = df['sentiment_scores'].apply(lambda x: x['pos'])\n",
        "df['compound_score'] = df['sentiment_scores'].apply(lambda x: x['compound'])\n",
        "\n",
        "# Menghapus kolom 'sentiment_scores' karena sudah tidak diperlukan\n",
        "df.drop(columns=['sentiment_scores'], inplace=True)\n",
        "\n",
        "# Update result\n",
        "ws = gc.open('Sementara').worksheet('PT TLKM')\n",
        "ws.clear()\n",
        "set_with_dataframe(ws, df)"
      ]
    }
  ],
  "metadata": {
    "colab": {
      "provenance": []
    },
    "kernelspec": {
      "display_name": "Python 3",
      "name": "python3"
    },
    "language_info": {
      "name": "python"
    }
  },
  "nbformat": 4,
  "nbformat_minor": 0
}