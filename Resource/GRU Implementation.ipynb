{
  "cells": [
    {
      "cell_type": "code",
      "execution_count": null,
      "metadata": {
        "id": "Volel-k6BodJ"
      },
      "outputs": [],
      "source": [
        "# Import Library Model\n",
        "import math\n",
        "import pandas as pd\n",
        "import numpy as np\n",
        "from sklearn.preprocessing import MinMaxScaler\n",
        "from keras.models import Sequential\n",
        "from keras.layers import Dense, LSTM\n",
        "from tensorflow.keras.layers import GRU, Dense, Dropout\n",
        "\n",
        "import matplotlib.pyplot as plt\n",
        "plt.style.use('fivethirtyeight')\n",
        "import tensorflow as tf\n",
        "from sklearn import metrics\n",
        "from sklearn.metrics import mean_absolute_error, mean_squared_error\n",
        "import warnings\n",
        "warnings.filterwarnings('ignore')"
      ]
    },
    {
      "cell_type": "code",
      "execution_count": null,
      "metadata": {
        "id": "B5Hl0q2uLVnP"
      },
      "outputs": [],
      "source": [
        "# Load dataset dari sheet \"BBRI\"\n",
        "path = \"../Data/STOCK PRICE IDXBUMN DATASET.xlsx\"\n",
        "stock_price = pd.read_excel(path, sheet_name=\"AGRO\")\n",
        "\n",
        "# Hapus baris pertama\n",
        "stock_price = stock_price.iloc[1:].reset_index(drop=True)\n",
        "\n",
        "# Tampilkan 5 baris pertama setelah penghapusan\n",
        "stock_price.head()"
      ]
    },
    {
      "cell_type": "code",
      "execution_count": null,
      "metadata": {
        "id": "Hi06S1AnKyX9"
      },
      "outputs": [],
      "source": [
        "# Load dataset \"sentimen\" dari sheet \"BBRI\"\n",
        "path = \"../Data/CNBC NEWS SCREAPING DATASET.xlsx\"\n",
        "sentimen_stock = pd.read_excel(path, sheet_name=\"AGRO\")\n",
        "\n",
        "# Tampilkan 5 baris pertama\n",
        "sentimen_stock.head()"
      ]
    },
    {
      "cell_type": "markdown",
      "metadata": {
        "id": "GEVq8L-cM_AA"
      },
      "source": [
        "### Data Understanding"
      ]
    },
    {
      "cell_type": "code",
      "execution_count": null,
      "metadata": {
        "id": "dit-ZNpfNCJW"
      },
      "outputs": [],
      "source": [
        "#Data Information \"stock_price\"\n",
        "stock_price.info()"
      ]
    },
    {
      "cell_type": "code",
      "execution_count": null,
      "metadata": {
        "id": "nclruiLgNLGY"
      },
      "outputs": [],
      "source": [
        "#Data Information \"sentimen_stock\"\n",
        "sentimen_stock.info()"
      ]
    },
    {
      "cell_type": "code",
      "execution_count": null,
      "metadata": {
        "id": "bBTPdDj1NURy"
      },
      "outputs": [],
      "source": [
        "# Mengubah tipe data \"stock_price\"\n",
        "stock_price['Date'] = pd.to_datetime(stock_price['Date']).dt.date\n",
        "stock_price['Date'] = pd.to_datetime(stock_price['Date'])\n",
        "stock_price[['Open', 'High', 'Low', 'Close', 'Volatilitas Pasar']] = stock_price[['Open', 'High', 'Low', 'Close', 'Volatilitas Pasar']].astype(int)\n",
        "stock_price['Volume'] = stock_price['Volume'].astype(int)"
      ]
    },
    {
      "cell_type": "code",
      "execution_count": null,
      "metadata": {
        "id": "J511kuZANaiO"
      },
      "outputs": [],
      "source": [
        "# Mengubah tipe data \"sentimen_stock\"\n",
        "sentimen_stock['date'] = pd.to_datetime(sentimen_stock['date']).dt.date\n",
        "sentimen_stock['date'] = pd.to_datetime(sentimen_stock['date'])  # Konversi ulang ke datetime64\n",
        "sentimen_stock['compound_score'] = sentimen_stock['compound_score'].astype(str).str.replace(',', '.').astype(float)"
      ]
    },
    {
      "cell_type": "code",
      "execution_count": null,
      "metadata": {},
      "outputs": [],
      "source": [
        "sentimen_stock.head()"
      ]
    },
    {
      "cell_type": "code",
      "execution_count": null,
      "metadata": {
        "id": "03A84kKQQBwC"
      },
      "outputs": [],
      "source": [
        "stock_price.tail()"
      ]
    },
    {
      "cell_type": "code",
      "execution_count": null,
      "metadata": {
        "id": "U18NebcMORGK"
      },
      "outputs": [],
      "source": [
        "df_avg = sentimen_stock.groupby(\"date\")[\"compound_score\"].mean().reset_index()\n",
        "print(df_avg)"
      ]
    },
    {
      "cell_type": "markdown",
      "metadata": {
        "id": "R6yMiDhtQypr"
      },
      "source": [
        "### Merge Dataset"
      ]
    },
    {
      "cell_type": "code",
      "execution_count": null,
      "metadata": {
        "id": "YNL_LzMQQ6gj"
      },
      "outputs": [],
      "source": [
        "df = pd.merge(stock_price, df_avg, left_on='Date', right_on='date', how='left')\n",
        "df.head()"
      ]
    },
    {
      "cell_type": "code",
      "execution_count": null,
      "metadata": {
        "id": "sZIvGmMzTMDS"
      },
      "outputs": [],
      "source": [
        "df = df.drop(columns=['date'])  # Hapus kolom 'date'\n",
        "\n",
        "# Ubah nama kolom\n",
        "df.rename(columns={'compound_score': 'sentimen_score'}, inplace=True)\n",
        "df.rename(columns={'Volatilitas Pasar': 'volatilitas_pasar'}, inplace=True)\n",
        "df.rename(columns={'Volume': 'volume'}, inplace=True)\n",
        "df.rename(columns={'Close': 'close'}, inplace=True)\n",
        "df.rename(columns={'Low': 'low'}, inplace=True)\n",
        "df.rename(columns={'High': 'high'}, inplace=True)\n",
        "df.rename(columns={'Open': 'open'}, inplace=True)"
      ]
    },
    {
      "cell_type": "code",
      "execution_count": null,
      "metadata": {
        "id": "YXOSjajgTfPG"
      },
      "outputs": [],
      "source": [
        "df[\"sentimen_score\"].fillna(0.000000, inplace=True)"
      ]
    },
    {
      "cell_type": "code",
      "execution_count": null,
      "metadata": {},
      "outputs": [],
      "source": [
        "df.head()"
      ]
    },
    {
      "cell_type": "code",
      "execution_count": null,
      "metadata": {},
      "outputs": [],
      "source": [
        "import pandas as pd\n",
        "\n",
        "# Save the first 5 rows to an Excel file\n",
        "df.to_excel(\"AGRO_VAL.xlsx\", index=False)\n",
        "print(\"File 'output.xlsx' has been saved.\")"
      ]
    },
    {
      "cell_type": "code",
      "execution_count": null,
      "metadata": {
        "id": "NbKYPEDSkHvX"
      },
      "outputs": [],
      "source": [
        "import matplotlib.pyplot as plt\n",
        "\n",
        "# Pastikan 'Date' bertipe datetime agar mudah diproses\n",
        "df['Date'] = pd.to_datetime(df['Date'])\n",
        "\n",
        "# Set ukuran figure\n",
        "fig, axes = plt.subplots(nrows=3, ncols=2, figsize=(16, 12))\n",
        "fig.suptitle('Visualisasi Data Saham', fontsize=18)\n",
        "\n",
        "# List kolom yang akan diplot (tanpa 'Date')\n",
        "columns = ['open', 'high', 'low', 'close', 'volume', 'volatilitas_pasar', 'sentimen_score']\n",
        "axes = axes.flatten()\n",
        "\n",
        "# Loop untuk membuat plot masing-masing kolom\n",
        "for i, col in enumerate(columns):\n",
        "    if i < len(axes):  # Pastikan tidak lebih dari jumlah subplot\n",
        "        axes[i].plot(df['Date'], df[col], label=col, color='b')\n",
        "        axes[i].set_title(f'{col.capitalize()} Over Time', fontsize=14)\n",
        "        axes[i].set_xlabel('Date')\n",
        "        axes[i].set_ylabel(col.capitalize())\n",
        "        axes[i].legend()\n",
        "\n",
        "# Mengatur layout agar tidak bertumpukan\n",
        "plt.tight_layout(rect=[0, 0.03, 1, 0.95])\n",
        "plt.show()\n"
      ]
    },
    {
      "cell_type": "markdown",
      "metadata": {
        "id": "cYtC6KEQWOZT"
      },
      "source": [
        "### Data Processing"
      ]
    },
    {
      "cell_type": "code",
      "execution_count": null,
      "metadata": {
        "id": "VjYsrpYh0faz"
      },
      "outputs": [],
      "source": [
        "# Pilih 7 fitur\n",
        "df = df[['Date','open', 'high', 'low', 'close', 'volume', 'volatilitas_pasar', 'sentimen_score']]"
      ]
    },
    {
      "cell_type": "code",
      "execution_count": null,
      "metadata": {
        "id": "hdXwUQtvAzot"
      },
      "outputs": [],
      "source": [
        "# Normalisasi data\n",
        "scaler = MinMaxScaler(feature_range=(0, 1))\n",
        "scaled_data = scaler.fit_transform(df[['open', 'high', 'low', 'close', 'volume', 'volatilitas_pasar', 'sentimen_score']])"
      ]
    },
    {
      "cell_type": "code",
      "execution_count": null,
      "metadata": {
        "id": "Ram09YxP3pUJ"
      },
      "outputs": [],
      "source": [
        "# Pembagian dataset\n",
        "training_data_length = math.ceil(len(scaled_data) * 0.8)\n",
        "train_data = scaled_data[:training_data_length]\n",
        "test_data = scaled_data[training_data_length:]"
      ]
    },
    {
      "cell_type": "code",
      "execution_count": null,
      "metadata": {
        "id": "xhwQZvyM3mdd"
      },
      "outputs": [],
      "source": [
        "# Pembuatan sequence data untuk x_train dan y_train\n",
        "x_train = []\n",
        "y_train = []\n",
        "for i in range(60, len(train_data)):\n",
        "    x_train.append(train_data[i-60:i, :])\n",
        "    y_train.append(train_data[i, 3])\n",
        "\n",
        "x_train, y_train = np.array(x_train), np.array(y_train)\n",
        "x_train = np.reshape(x_train, (x_train.shape[0], x_train.shape[1], 7))\n",
        "print(f\"x_train shape: {x_train.shape}\")\n",
        "print(f\"y_train shape: {y_train.shape}\")"
      ]
    },
    {
      "cell_type": "code",
      "execution_count": null,
      "metadata": {
        "id": "VY2MY6He3sZf"
      },
      "outputs": [],
      "source": [
        "# Pembuatan sequence data untuk x_test dan y_test\n",
        "x_test = []\n",
        "y_test = test_data[60:, 3]  # Target adalah kolom 'close'\n",
        "\n",
        "for i in range(60, len(test_data)):\n",
        "    x_test.append(test_data[i-60:i, :])\n",
        "\n",
        "x_test = np.array(x_test)\n",
        "x_test = np.reshape(x_test, (x_test.shape[0], x_test.shape[1], 7))\n",
        "print(f\"x_test shape: {x_test.shape}\")\n",
        "print(f\"y_test shape: {y_test.shape}\")"
      ]
    },
    {
      "cell_type": "code",
      "execution_count": null,
      "metadata": {
        "id": "GiqmLrdalAV5"
      },
      "outputs": [],
      "source": [
        "# Pembagian data untuk visualisasi\n",
        "train = df[:training_data_length]\n",
        "valid = df[training_data_length:]\n",
        "\n",
        "print(f\"Total data: {len(df)}\")\n",
        "print(f\"Training data: {len(train)}\")\n",
        "print(f\"Validation data: {len(valid)}\")"
      ]
    },
    {
      "cell_type": "code",
      "execution_count": null,
      "metadata": {
        "id": "qKShdSGs3w6t"
      },
      "outputs": [],
      "source": [
        "# Membangun model GRU\n",
        "model = Sequential()\n",
        "model.add(GRU(units=24, return_sequences=False, input_shape=(60, 7)))\n",
        "model.add(Dropout(0.2))\n",
        "model.add(Dense(units=1))\n",
        "model.compile(optimizer='adam', loss='mean_squared_error')\n",
        "\n",
        "# Melatih model\n",
        "history = model.fit(x_train, y_train, batch_size=32, epochs=250, validation_data=(x_test, y_test))"
      ]
    },
    {
      "cell_type": "code",
      "execution_count": null,
      "metadata": {
        "id": "oegtjzB33fMS"
      },
      "outputs": [],
      "source": [
        "plt.plot(history.history['loss'], label='Training Loss')\n",
        "plt.plot(history.history['val_loss'], label='Validation Loss')\n",
        "plt.xlabel('Epochs')\n",
        "plt.ylabel('Loss')\n",
        "plt.legend()\n",
        "plt.show()"
      ]
    },
    {
      "cell_type": "code",
      "execution_count": null,
      "metadata": {
        "id": "qCgWuUwSp_KC"
      },
      "outputs": [],
      "source": [
        "predictions = model.predict(x_test)\n",
        "\n",
        "# Inverse transform untuk mendapatkan nilai prediksi dalam skala asli\n",
        "predictions = scaler.inverse_transform(np.concatenate([predictions, np.zeros((predictions.shape[0], 6))], axis=1))[:, 0]\n",
        "\n",
        "# Menyiapkan data validasi untuk visualisasi\n",
        "valid = valid.iloc[-len(predictions):]\n",
        "valid['Predictions'] = predictions"
      ]
    },
    {
      "cell_type": "code",
      "execution_count": null,
      "metadata": {
        "id": "JCY_ifaUqDFE"
      },
      "outputs": [],
      "source": [
        "plt.figure(figsize=(16, 8))\n",
        "plt.title('Prediksi Harga Saham PT Adhi Perkasa (Persero)', fontsize=20)\n",
        "plt.xlabel('Date', fontsize=18)\n",
        "plt.ylabel('Harga Penutupan Saham (Rp)', fontsize=18)\n",
        "\n",
        "# Plot data aktual (seluruh periode)\n",
        "plt.plot(df['Date'], df['close'], label='Data Aktual', color='blue', linewidth=2)\n",
        "\n",
        "# Plot prediksi hanya pada periode validasi\n",
        "plt.plot(valid['Date'], valid['Predictions'], label='Prediksi', color='orange')\n",
        "\n",
        "# Tambahkan legenda\n",
        "plt.legend(loc='lower right', fontsize=12)\n",
        "\n",
        "# Format tanggal di sumbu x\n",
        "plt.xticks(rotation=45)\n",
        "\n",
        "# Tampilkan plot\n",
        "plt.tight_layout()\n",
        "plt.show()"
      ]
    },
    {
      "cell_type": "code",
      "execution_count": null,
      "metadata": {
        "id": "mF2ASLiWOh-W"
      },
      "outputs": [],
      "source": [
        "# Menampilkan data hasil prediksi\n",
        "hasil_prediksi = valid[['Date', 'close', 'Predictions']]\n",
        "print(hasil_prediksi)"
      ]
    },
    {
      "cell_type": "code",
      "execution_count": null,
      "metadata": {
        "id": "BpSi46d8ZIDI"
      },
      "outputs": [],
      "source": [
        "import matplotlib.pyplot as plt\n",
        "import pandas as pd\n",
        "\n",
        "# Konversi Tanggal ke Datetime dan Urutkan Data\n",
        "valid['Date'] = pd.to_datetime(valid['Date'])\n",
        "valid = valid.sort_values(by='Date')\n",
        "\n",
        "# Plot data aktual vs prediksi\n",
        "plt.figure(figsize=(16, 8))\n",
        "plt.title('Perbandingan Data Aktual vs Prediksi Harga Saham', fontsize=20)\n",
        "plt.xlabel('Date', fontsize=18)\n",
        "plt.ylabel('Harga Penutupan Saham (Rp)', fontsize=18)\n",
        "\n",
        "# Plot data aktual\n",
        "plt.plot(valid['Date'], valid['close'], label='Data Aktual', color='blue', linewidth=2)\n",
        "\n",
        "# Plot data prediksi\n",
        "plt.plot(valid['Date'], valid['Predictions'], label='Prediksi', color='orange', linestyle='--', linewidth=2)\n",
        "\n",
        "# Tambahkan grid dan legenda\n",
        "plt.grid(True)\n",
        "plt.legend(loc='upper left', fontsize=14)\n",
        "plt.xticks(rotation=45)\n",
        "plt.xlim(valid['Date'].min(), valid['Date'].max())  # Set batas sumbu-x\n",
        "\n",
        "# Tampilkan Plot\n",
        "plt.tight_layout()\n",
        "plt.show()\n"
      ]
    },
    {
      "cell_type": "code",
      "execution_count": null,
      "metadata": {
        "id": "lkgM-fHJ9t1b"
      },
      "outputs": [],
      "source": [
        "from sklearn.metrics import mean_squared_error, mean_absolute_error\n",
        "import numpy as np\n",
        "\n",
        "# Hitung RMSE\n",
        "rmse = np.sqrt(mean_squared_error(valid['close'], valid['Predictions']))\n",
        "print(f\"RMSE: {rmse:.2f}\")\n",
        "\n",
        "# Hitung MAE\n",
        "mae = mean_absolute_error(valid['close'], valid['Predictions'])\n",
        "print(f\"MAE: {mae:.2f}\")\n",
        "\n",
        "# Fungsi MAPE dengan perlindungan terhadap nol\n",
        "def mean_absolute_percentage_error(y_true, y_pred):\n",
        "    y_true = np.array(y_true)\n",
        "    y_pred = np.array(y_pred)\n",
        "    return np.mean(np.where(y_true != 0, np.abs((y_true - y_pred) / y_true), 0)) * 100\n",
        "\n",
        "# Hitung MAPE\n",
        "mape = mean_absolute_percentage_error(valid['close'], valid['Predictions'])\n",
        "print(f\"MAPE: {mape:.2f}%\")"
      ]
    },
    {
      "cell_type": "code",
      "execution_count": null,
      "metadata": {},
      "outputs": [],
      "source": [
        "import tensorflow as tf\n",
        "from tensorflow.keras.models import save_model\n",
        "import joblib\n",
        "\n",
        "# Simpan model GRU\n",
        "save_model(model, 'GRU_MODEL_TLKM.h5')\n",
        "\n",
        "# Simpan scaler (untuk normalisasi data)\n",
        "joblib.dump(scaler, 'GRU_SCALER_TLKM.save')  \n",
        "\n",
        "print(\"Model dan scaler berhasil disimpan:\")\n",
        "print(\"- GRU_MODEL_AGRO.h5\")\n",
        "print(\"- GRU_SCALER_AGRO.save\")"
      ]
    },
    {
      "cell_type": "code",
      "execution_count": null,
      "metadata": {
        "id": "byKmbv_6gQNy"
      },
      "outputs": [],
      "source": [
        "# # Prediksi dalam skala normalisasi\n",
        "# y_pred_scaled = model.predict(x_test)\n",
        "\n",
        "# # Hitung MSE pada skala 0-1\n",
        "# mse_scaled = mean_squared_error(y_test, y_pred_scaled)\n",
        "# print(f\"MSE (Scaled): {mse_scaled}\")\n",
        "\n",
        "# # Hitung RMSE pada skala 0-1\n",
        "# rmse_scaled = np.sqrt(mse_scaled)\n",
        "# print(f\"RMSE (Scaled): {rmse_scaled}\")"
      ]
    },
    {
      "cell_type": "code",
      "execution_count": null,
      "metadata": {
        "id": "h51ItJgzHHt_"
      },
      "outputs": [],
      "source": [
        "# import seaborn as sns\n",
        "# import matplotlib.pyplot as plt\n",
        "\n",
        "# plt.figure(figsize=(10,6))\n",
        "# sns.heatmap(df.corr(), annot=True, cmap='coolwarm', fmt=\".2f\")\n",
        "# plt.title(\"Korelasi Antar Fitur\")\n",
        "# plt.show()"
      ]
    }
  ],
  "metadata": {
    "colab": {
      "provenance": []
    },
    "kernelspec": {
      "display_name": "Python 3",
      "name": "python3"
    },
    "language_info": {
      "codemirror_mode": {
        "name": "ipython",
        "version": 3
      },
      "file_extension": ".py",
      "mimetype": "text/x-python",
      "name": "python",
      "nbconvert_exporter": "python",
      "pygments_lexer": "ipython3",
      "version": "3.12.4"
    }
  },
  "nbformat": 4,
  "nbformat_minor": 0
}
